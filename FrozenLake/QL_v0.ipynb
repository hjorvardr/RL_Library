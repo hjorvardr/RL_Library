{
 "cells": [
  {
   "cell_type": "markdown",
   "metadata": {},
   "source": [
    "# Q-Learning\n",
    "\n",
    "30-03-18\n",
    "\n",
    "Q-Learning approach is based on the following formula:\n",
    "\n",
    "$$\n",
    "    Q(s_t,a)\\leftarrow \\underbrace{(1-\\alpha)Q(s_t,a_t)}_{\\textit{past}}+\\alpha[R_t+\\gamma\\cdot\\underset{a}{\\max}\\underbrace{(Q(s_{t+1},a)}_{\\textit{future}})]\n",
    "$$"
   ]
  },
  {
   "cell_type": "markdown",
   "metadata": {},
   "source": [
    "where:\n",
    "    \n",
    "* $s_t$ is a state.\n",
    "* $a$ is an action.\n",
    "* $\\alpha\\in[0,1]$. The higher it is, the lesser the past is considered\n",
    "* $R_t$ is the reward at time $t$.\n",
    "* $\\gamma$ is an arbitrary parameter.\n"
   ]
  },
  {
   "cell_type": "code",
   "execution_count": null,
   "metadata": {},
   "outputs": [],
   "source": [
    "from notebook_logging import log_progress"
   ]
  },
  {
   "cell_type": "code",
   "execution_count": null,
   "metadata": {},
   "outputs": [],
   "source": [
    "import gym\n",
    "import time\n",
    "import os\n",
    "import numpy as np\n",
    "import matplotlib.pyplot as plt\n",
    "import numpy.random as rn\n",
    "%matplotlib inline\n",
    "\n",
    "\n",
    "\"\"\"\n",
    "SFFF\n",
    "FHFH\n",
    "FFFH\n",
    "HFFG\n",
    "\"\"\"\n",
    "\n",
    "gamma = 0.5\n",
    "alpha = 0.01\n",
    "\n",
    "\n",
    "def updateQ(Q, s_t, s_tn, a, R):\n",
    "    \"\"\"\n",
    "    It applies Q-Learning update rule.\n",
    "    Parameters:\n",
    "    Q -> Q matrix\n",
    "    s_tn -> new state\n",
    "    R -> reward\n",
    "    a -> action\n",
    "    \"\"\"\n",
    "    a_max = np.argmax(Q[s_tn])\n",
    "    Q[s_t, a] = (1 - alpha)*Q[s_t, a] + alpha * (R + gamma*Q[s_tn, a_max])\n",
    "    return Q\n",
    "\n",
    "def choose_policy(state):\n",
    "    \"\"\"\n",
    "    It chooses the best action given the current state.\n",
    "    Paramteres:\n",
    "    state -> array of possible actions in the current state.\n",
    "    \"\"\"\n",
    "    v_max = np.amax(state)\n",
    "    indexes = np.arange(len(state))[state == v_max]\n",
    "    rn.shuffle(indexes)\n",
    "    return indexes[0]"
   ]
  },
  {
   "cell_type": "code",
   "execution_count": null,
   "metadata": {},
   "outputs": [],
   "source": [
    "Q = np.zeros((16, 4))\n",
    "acc = 0;\n",
    "Qs = [] # Weights matrices\n",
    "Rs = [] # Final rewards\n",
    "Prs = [] # Partial rewards\n",
    "Ts = [] # Steps per episode\n",
    "\n",
    "#best_policy = [0, 3, 3, 3, 0, 3, 0, 1, 3, 1, 0, 0, 2, 2, 1, 1] \n",
    "from gym import wrappers\n",
    "env = gym.make('FrozenLake-v0')\n",
    "env = wrappers.Monitor(env, '/tmp/frozenlake-experiment-1', force=True)\n",
    "for i_episode in log_progress(range(5000)):\n",
    "    s_old = env.reset()\n",
    "    acc_rew = 0\n",
    "\n",
    "    for t in range(100000):\n",
    "        #env.render()\n",
    "        policy = choose_policy(Q[s_old])\n",
    "        s_new, reward, done, info = env.step(policy)\n",
    "        if done:\n",
    "            Q = updateQ(Q, s_old, s_new, policy, reward - 0.5)\n",
    "            Qs.append(Q)\n",
    "            Rs.append(reward - 0.5)\n",
    "            Ts.append(t)\n",
    "            acc_rew += reward - 0.5\n",
    "            Prs.append(acc_rew)\n",
    "            break\n",
    "        else:\n",
    "            Q = updateQ(Q, s_old, s_new, policy, reward - 0.07)\n",
    "            s_old = s_new\n",
    "            acc_rew += reward - 0.07\n",
    "\n",
    "\n",
    "time.sleep(1)\n",
    "env.close()\n",
    "Rs = np.array(Rs)\n",
    "Ts = np.array(Ts)\n",
    "Prs = np.array(Prs)"
   ]
  },
  {
   "cell_type": "code",
   "execution_count": null,
   "metadata": {},
   "outputs": [],
   "source": [
    "len(Qs)"
   ]
  },
  {
   "cell_type": "code",
   "execution_count": null,
   "metadata": {},
   "outputs": [],
   "source": [
    "plt.figure(figsize=(15,5))\n",
    "\n",
    "fit = Rs / Ts\n",
    "print(\"Rs %f Ts %f mFit %f\" % (Rs.sum(), Ts.sum(), fit.mean()))\n",
    "plt.plot(fit)"
   ]
  },
  {
   "cell_type": "code",
   "execution_count": null,
   "metadata": {},
   "outputs": [],
   "source": [
    "plt.figure(figsize=(15,5))\n",
    "\n",
    "fit = Prs / Ts\n",
    "print(\"mFit %f\" % (fit.mean()))\n",
    "plt.plot(fit)"
   ]
  },
  {
   "cell_type": "code",
   "execution_count": null,
   "metadata": {},
   "outputs": [],
   "source": [
    "print(\"Policy learned: {}\".format(np.argmax(Q, axis=1)))"
   ]
  },
  {
   "cell_type": "markdown",
   "metadata": {},
   "source": [
    "## Policies\n",
    "\n",
    "$\\gamma = 0.5,\\alpha = 0.01$\n",
    "\n",
    "**[0 3 3 3 0 x 0 x 3 1 0 x x 2 1 x] <- GA best**  \n",
    "[0 3 3 3 0 0 2 0 3 1 0 0 0 2 2 0] <- 5000 episodes  \n",
    "[0 3 3 3 0 0 0 0 3 1 0 0 0 2 2 0] <- 100000 episodes  \n",
    "[0 3 3 3 0 0 0 0 3 1 0 0 0 2 3 0] <- 150000 episodes  \n"
   ]
  },
  {
   "cell_type": "code",
   "execution_count": null,
   "metadata": {},
   "outputs": [],
   "source": []
  }
 ],
 "metadata": {
  "kernelspec": {
   "display_name": "Python 3",
   "language": "python",
   "name": "python3"
  },
  "language_info": {
   "codemirror_mode": {
    "name": "ipython",
    "version": 3
   },
   "file_extension": ".py",
   "mimetype": "text/x-python",
   "name": "python",
   "nbconvert_exporter": "python",
   "pygments_lexer": "ipython3",
   "version": "3.6.4"
  }
 },
 "nbformat": 4,
 "nbformat_minor": 2
}

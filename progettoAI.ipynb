{
 "cells": [
  {
   "cell_type": "code",
   "execution_count": null,
   "metadata": {},
   "outputs": [],
   "source": [
    "from notebook_logging import log_progress"
   ]
  },
  {
   "cell_type": "code",
   "execution_count": null,
   "metadata": {},
   "outputs": [],
   "source": [
    "import gym\n",
    "import time\n",
    "import os\n",
    "import numpy as np\n",
    "import matplotlib.pyplot as plt\n",
    "%matplotlib inline\n",
    "\n",
    "\n",
    "\"\"\"\n",
    "SFFF\n",
    "FHFH\n",
    "FFFH\n",
    "HFFG\n",
    "[0, x, x, x, 0, x, 1, x, 2, 1, 0, x, x, 3, 1, x]  <- our gamma .9\n",
    "[0, 3, 3, 3, 0, 3, 0, 1, 3, 1, 0, 0, 2, 2, 1, 1]  <- GA best\n",
    "[3, 3, 1, 1, x, x, 1, x, 1, 1, 1, x, x, 2, 1, x]\n",
    "[1, 1, 0, x, 2, x, 1, x, 2, 1, 0, x, x, 3, 2, x]  <- gamma 1.0\n",
    "[1, 1, 0, x, 0, x, 0, x, 3, 2, 1, x, x, 0, 2, x]  <- gamma .5\n",
    "\n",
    "\"\"\"\n",
    "\n",
    "gamma = 0.5\n",
    "alpha = 0.01\n",
    "\n",
    "def updateQ(Q, s_t, s_tn, a, R):\n",
    "    \"\"\"\n",
    "    Q -> Q matrix\n",
    "    s_tn -> new state\n",
    "    R -> reward\n",
    "    a -> action\n",
    "    \"\"\"\n",
    "    a_max = np.argmax(Q[s_tn])\n",
    "    Q[s_t, a] = (1 - alpha)*Q[s_t, a] + alpha * (R + gamma*Q[s_tn, a_max])\n",
    "    return Q\n",
    "\n",
    "def choose_policy(states):\n",
    "    import numpy.random as rn\n",
    "    #print(states)\n",
    "    v_max = np.amax(states)\n",
    "    #print(v_max)\n",
    "    indici = np.arange(len(states))[states == v_max]\n",
    "    #print(indici)\n",
    "    rn.shuffle(indici)\n",
    "    return indici[0]\n",
    "\n",
    "\n",
    "Q = np.zeros((16, 4))\n",
    "\n",
    "print(\"Q(t:0)\")\n",
    "print(Q)"
   ]
  },
  {
   "cell_type": "code",
   "execution_count": null,
   "metadata": {},
   "outputs": [],
   "source": [
    "acc = 0;\n",
    "Qs = []\n",
    "Rs = []\n",
    "Ts = []\n",
    "#best_policy = [0, 3, 3, 3, 0, 3, 0, 1, 3, 1, 0, 0, 2, 2, 1, 1] \n",
    "from gym import wrappers\n",
    "env = gym.make('FrozenLake-v0')\n",
    "env = wrappers.Monitor(env, '/tmp/frozenlake-experiment-1', force=True)\n",
    "for i_episode in log_progress(range(1000)):\n",
    "    s_old = env.reset()\n",
    "\n",
    "    for t in range(100000):\n",
    "        #env.render()\n",
    "        policy = choose_policy(Q[s_old])\n",
    "        s_new, reward, done, info = env.step(policy)\n",
    "        if done:\n",
    "            Q = updateQ(Q, s_old, s_new, policy, reward - 0.5)\n",
    "            Qs.append(Q)\n",
    "            Rs.append(reward - 0.1)\n",
    "            Ts.append(t)\n",
    "            break\t\n",
    "        else:\n",
    "            Q = updateQ(Q, s_old, s_new, policy, reward - 0.001)\n",
    "            s_old = s_new\n",
    "\n",
    "\n",
    "time.sleep(1)\n",
    "env.close()\n",
    "Rs = np.array(Rs)\n",
    "Ts = np.array(Ts)"
   ]
  },
  {
   "cell_type": "code",
   "execution_count": null,
   "metadata": {},
   "outputs": [],
   "source": [
    "len(Qs)"
   ]
  },
  {
   "cell_type": "code",
   "execution_count": null,
   "metadata": {},
   "outputs": [],
   "source": [
    "fit = Rs / Ts\n",
    "print(\"Rs %f Ts %f mFit %f\" % (Rs.sum(), Ts.sum(), fit.mean()))\n",
    "plt.plot(fit)"
   ]
  },
  {
   "cell_type": "code",
   "execution_count": null,
   "metadata": {},
   "outputs": [],
   "source": [
    "print(\"Policy learned: {}\".format(np.argmax(Q, axis=1)))"
   ]
  }
 ],
 "metadata": {
  "kernelspec": {
   "display_name": "Python 3",
   "language": "python",
   "name": "python3"
  },
  "language_info": {
   "codemirror_mode": {
    "name": "ipython",
    "version": 3
   },
   "file_extension": ".py",
   "mimetype": "text/x-python",
   "name": "python",
   "nbconvert_exporter": "python",
   "pygments_lexer": "ipython3",
   "version": "3.6.4"
  }
 },
 "nbformat": 4,
 "nbformat_minor": 2
}
